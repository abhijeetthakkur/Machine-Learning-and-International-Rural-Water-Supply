{
 "cells": [
  {
   "cell_type": "code",
   "execution_count": 1,
   "metadata": {},
   "outputs": [],
   "source": [
    "import tensorflow as tf\n",
    "import tensorflow.keras as tfk\n",
    "import numpy as np\n",
    "from matplotlib import pyplot as plt"
   ]
  },
  {
   "cell_type": "code",
   "execution_count": 2,
   "metadata": {},
   "outputs": [],
   "source": [
    "(x_train_full, y_train_full), (x_test_full, y_test_full) = tfk.datasets.mnist.load_data()"
   ]
  },
  {
   "cell_type": "code",
   "execution_count": 65,
   "metadata": {},
   "outputs": [
    {
     "name": "stdout",
     "output_type": "stream",
     "text": [
      "data tensor: (60000, 28, 28) \n",
      "individual image size: (28, 28)\n"
     ]
    }
   ],
   "source": [
    "as_rgb = lambda im: np.tile(np.expand_dims(im,2),(1,1,3))\n",
    "\n",
    "print('data tensor: %s ' % str(x_train_full.shape))\n",
    "print('individual image size: %s' % str(x_train_full[0,:,:].shape))"
   ]
  },
  {
   "cell_type": "markdown",
   "metadata": {},
   "source": [
    "## Take a random subsample of MNIST 2s and 4s"
   ]
  },
  {
   "cell_type": "code",
   "execution_count": 4,
   "metadata": {},
   "outputs": [],
   "source": [
    "N = 100 # how much data of each class\n",
    "c1, c2 = 2, 4 # these are our two classes for binary classification"
   ]
  },
  {
   "cell_type": "markdown",
   "metadata": {},
   "source": [
    "##### Training data\n",
    "We use N = 100 of each class\n",
    "\n",
    "This code takes a random choice of N images from each class (`c1`,`c2`) and constructs a subsample `200x28x28`."
   ]
  },
  {
   "cell_type": "code",
   "execution_count": 5,
   "metadata": {},
   "outputs": [],
   "source": [
    "index_of_c1 = np.argwhere(y_train_full == c1).ravel() # index of 2s\n",
    "index_of_c1 = np.random.choice(index_of_c1, N, replace=False)\n",
    "\n",
    "index_of_c2 = np.argwhere(y_train_full == c2).ravel()# index of 4s\n",
    "index_of_c2 = np.random.choice(index_of_c2, N, replace=False)\n",
    "\n",
    "x_train = x_train_full[np.hstack((index_of_c1, index_of_c2))] # subsample\n",
    "y_train = y_train_full[np.hstack((index_of_c1, index_of_c2))] # subsample"
   ]
  },
  {
   "cell_type": "markdown",
   "metadata": {},
   "source": [
    "We want to resize the data, so we use the tensorflow `resize_images` utility. This is a delayed evaluation, as we will use TensorFlow's [static graph computation](https://www.tensorflow.org/guide/graphs).\n",
    "\n",
    "Essentially, for each image in `x_train`, we duplicate it to create an RGB version of the image `(28x28x3)`, and then pass to `resize_images`. This results in a `299x299x3` Tensor (which will become an image when we evaluate it with `tf.Session()`). We combine all images into a batch tensor by stacking them along the first dimension."
   ]
  },
  {
   "cell_type": "code",
   "execution_count": 6,
   "metadata": {},
   "outputs": [
    {
     "name": "stdout",
     "output_type": "stream",
     "text": [
      "Tensor(\"concat:0\", shape=(200, 299, 299, 3), dtype=uint8)\n"
     ]
    }
   ],
   "source": [
    "train_rs = tf.concat(\n",
    "    [\n",
    "        tf.expand_dims(\n",
    "            tf.image.resize_images(\n",
    "                as_rgb(x_train[i,:,:]),\n",
    "                (299,299),\n",
    "                method=tf.image.ResizeMethod.NEAREST_NEIGHBOR\n",
    "            ),\n",
    "        0) for i in range(x_train.shape[0])\n",
    "    ],\n",
    "    0\n",
    ")\n",
    "print(train_rs) # batch tensor of RGB images (this has not been evaluated yet)"
   ]
  },
  {
   "cell_type": "markdown",
   "metadata": {},
   "source": [
    "##### Test Data\n",
    "We now do the same but for the test data"
   ]
  },
  {
   "cell_type": "code",
   "execution_count": 7,
   "metadata": {},
   "outputs": [],
   "source": [
    "index_of_c1 = np.argwhere(y_test_full == c1).ravel() # index of 2s\n",
    "index_of_c1 = np.random.choice(index_of_c1, N, replace=False)\n",
    "\n",
    "index_of_c2 = np.argwhere(y_test_full == c2).ravel() # index of 2s\n",
    "index_of_c2 = np.random.choice(index_of_c2, N, replace=False)\n",
    "\n",
    "x_test = x_test_full[np.hstack((index_of_c1, index_of_c2))]\n",
    "y_test = y_test_full[np.hstack((index_of_c1, index_of_c2))]"
   ]
  },
  {
   "cell_type": "code",
   "execution_count": 8,
   "metadata": {},
   "outputs": [
    {
     "name": "stdout",
     "output_type": "stream",
     "text": [
      "Tensor(\"concat_1:0\", shape=(200, 299, 299, 3), dtype=uint8)\n"
     ]
    }
   ],
   "source": [
    "test_rs = tf.concat(\n",
    "    [\n",
    "        tf.expand_dims(\n",
    "            tf.image.resize_images(\n",
    "                as_rgb(x_test[i,:,:]),\n",
    "                (299,299),\n",
    "                method=tf.image.ResizeMethod.NEAREST_NEIGHBOR\n",
    "            ),0) for i in range(x_test.shape[0])\n",
    "    ],\n",
    "    0\n",
    ")\n",
    "print(test_rs) # batch tensor of RGB images (this has not been evaluated yet)"
   ]
  },
  {
   "cell_type": "markdown",
   "metadata": {},
   "source": [
    "### Evaluating the reshape operation\n",
    "\n",
    "**Using TensorFlow may not be the best way to do image resizing, I'm just using it because I already have it loaded, and I can give you an example of how `tf.Session().run()` works**"
   ]
  },
  {
   "cell_type": "code",
   "execution_count": 9,
   "metadata": {
    "scrolled": true
   },
   "outputs": [],
   "source": [
    "# We create a Session instance to execute tensors\n",
    "#    sess is a Session, but only exists within the `with` block\n",
    "#    this prevents memory overload by running too many sessions\n",
    "with tf.Session() as sess:\n",
    "    # The first thing that must be done is initialising tensors (ESSENTIAL)\n",
    "    sess.run(tf.global_variables_initializer())\n",
    "    # Applying sess.run() to a tensor, e.g. x_resze, will evaluate it and\n",
    "    #    return the numpy version\n",
    "    new_x_train = sess.run(train_rs)\n",
    "    new_x_test  = sess.run(test_rs)\n",
    "# we could optionally chain all calls to sess.run in one command, e.g.\n",
    "# _, new_x_train, new_x_test = sess.run([tf.global_variables_initializer(), train_rs, test_rs])"
   ]
  },
  {
   "cell_type": "code",
   "execution_count": 10,
   "metadata": {},
   "outputs": [
    {
     "name": "stdout",
     "output_type": "stream",
     "text": [
      "(200, 299, 299, 3)\n",
      "(200, 299, 299, 3)\n"
     ]
    }
   ],
   "source": [
    "print(new_x_train.shape)\n",
    "print(new_x_test.shape)"
   ]
  },
  {
   "cell_type": "markdown",
   "metadata": {},
   "source": [
    "### Plot results of resizing\n",
    "You can rerun the following cell and it will get a new image from the training data and test data"
   ]
  },
  {
   "cell_type": "code",
   "execution_count": 11,
   "metadata": {},
   "outputs": [
    {
     "data": {
      "image/png": "[encoded data removed]",
      "text/plain": [
       "<Figure size 864x864 with 4 Axes>"
      ]
     },
     "metadata": {
      "needs_background": "light"
     },
     "output_type": "display_data"
    }
   ],
   "source": [
    "plt.figure(figsize=(12,12))\n",
    "i = np.random.randint(0, new_x_train.shape[0])\n",
    "plt.subplot(221)\n",
    "plt.imshow(x_train[i,:,:])\n",
    "plt.title(\"binary training image (%d) of a %d\" % (i,y_train[i]))\n",
    "plt.subplot(222)\n",
    "plt.imshow(new_x_train[i,:,:])\n",
    "plt.title(\"resized rbg version\");\n",
    "\n",
    "i = np.random.randint(0, new_x_test.shape[0])\n",
    "plt.subplot(223)\n",
    "plt.imshow(x_test[i,:,:])\n",
    "plt.title(\"binary test image (%d) of a %d\" % (i,y_test[i]))\n",
    "plt.subplot(224)\n",
    "plt.imshow(new_x_test[i,:,:])\n",
    "plt.title(\"resized rbg version\");"
   ]
  },
  {
   "cell_type": "markdown",
   "metadata": {},
   "source": [
    "### Inception"
   ]
  },
  {
   "cell_type": "code",
   "execution_count": 14,
   "metadata": {},
   "outputs": [],
   "source": [
    "from tensorflow.keras.applications.inception_v3 import InceptionV3"
   ]
  },
  {
   "cell_type": "code",
   "execution_count": 15,
   "metadata": {},
   "outputs": [
    {
     "name": "stdout",
     "output_type": "stream",
     "text": [
      "Downloading data from https://github.com/fchollet/deep-learning-models/releases/download/v0.5/inception_v3_weights_tf_dim_ordering_tf_kernels_notop.h5\n",
      "87916544/87910968 [==============================] - 40s 0us/step\n"
     ]
    }
   ],
   "source": [
    "inception = InceptionV3(\n",
    "    weights='imagenet',\n",
    "    include_top=False,\n",
    "    pooling='avg',\n",
    "    input_shape=(299,299,3)\n",
    ")"
   ]
  },
  {
   "cell_type": "markdown",
   "metadata": {},
   "source": [
    "### Feature Extraction\n",
    "\n",
    "We use the `inception` model to get feature vectors:"
   ]
  },
  {
   "cell_type": "code",
   "execution_count": 20,
   "metadata": {},
   "outputs": [
    {
     "name": "stdout",
     "output_type": "stream",
     "text": [
      "(200, 2048)\n"
     ]
    }
   ],
   "source": [
    "training_features = inception.predict(new_x_train)\n",
    "print(training_features.shape)"
   ]
  },
  {
   "cell_type": "code",
   "execution_count": 25,
   "metadata": {},
   "outputs": [
    {
     "name": "stdout",
     "output_type": "stream",
     "text": [
      "[[ 2.8140774  15.070626    1.2605075  ...  1.6774261   0.\n",
      "   0.9187352 ]\n",
      " [ 0.28050423  1.0672438   0.         ...  1.112262    0.\n",
      "   0.31243774]\n",
      " [ 4.9687753   1.7053828   0.         ...  1.5006678   0.\n",
      "   0.59142035]\n",
      " ...\n",
      " [ 0.30219156  6.8252687   0.99834985 ...  3.4056268   0.\n",
      "   0.16800255]\n",
      " [ 2.2189844   3.573133    0.         ...  0.          0.\n",
      "   0.        ]\n",
      " [ 0.         16.82864     0.         ...  0.          0.\n",
      "   0.        ]]\n"
     ]
    }
   ],
   "source": [
    "test_features = inception.predict(new_x_test)\n",
    "print(test_features.shape)"
   ]
  },
  {
   "cell_type": "markdown",
   "metadata": {},
   "source": [
    "### Classification"
   ]
  },
  {
   "cell_type": "code",
   "execution_count": 23,
   "metadata": {},
   "outputs": [],
   "source": [
    "from sklearn.linear_model import SGDClassifier as Classifier"
   ]
  },
  {
   "cell_type": "code",
   "execution_count": 24,
   "metadata": {},
   "outputs": [
    {
     "data": {
      "text/plain": [
       "SGDClassifier(alpha=0.0001, average=False, class_weight=None,\n",
       "       early_stopping=False, epsilon=0.1, eta0=0.0, fit_intercept=True,\n",
       "       l1_ratio=0.15, learning_rate='optimal', loss='hinge', max_iter=1000,\n",
       "       n_iter=None, n_iter_no_change=5, n_jobs=None, penalty='l2',\n",
       "       power_t=0.5, random_state=None, shuffle=True, tol=0.001,\n",
       "       validation_fraction=0.1, verbose=0, warm_start=False)"
      ]
     },
     "execution_count": 24,
     "metadata": {},
     "output_type": "execute_result"
    }
   ],
   "source": [
    "clf = Classifier(max_iter=1000, tol=1e-3)\n",
    "\n",
    "clf.fit(training_features, y_train)"
   ]
  },
  {
   "cell_type": "code",
   "execution_count": 30,
   "metadata": {},
   "outputs": [],
   "source": [
    "y_predict = clf.predict(test_features)"
   ]
  },
  {
   "cell_type": "code",
   "execution_count": 62,
   "metadata": {},
   "outputs": [
    {
     "name": "stdout",
     "output_type": "stream",
     "text": [
      "accuracy: 0.935000\n",
      "successfully classified: 187/200\n"
     ]
    }
   ],
   "source": [
    "acc = clf.score(test_features, y_train)\n",
    "print(\"accuracy: %f\" % acc)\n",
    "print(\"successfully classified: %d/%d\" %( np.sum(y_predict == y_train), len(y_train)))"
   ]
  },
  {
   "cell_type": "markdown",
   "metadata": {},
   "source": [
    "#### Show failed classification"
   ]
  },
  {
   "cell_type": "code",
   "execution_count": 59,
   "metadata": {},
   "outputs": [
    {
     "data": {
      "image/png": "[encoded data removed]",
      "text/plain": [
       "<Figure size 1008x576 with 15 Axes>"
      ]
     },
     "metadata": {
      "needs_background": "light"
     },
     "output_type": "display_data"
    }
   ],
   "source": [
    "ix, = np.where(y_predict != y_train)\n",
    "\n",
    "nc = 5\n",
    "nr = int(np.ceil(len(ix) / nc))\n",
    "\n",
    "fig, axs = plt.subplots(nr,nc, figsize=(14,8))\n",
    "axs = axs.ravel()\n",
    "for k,i in enumerate(ix):\n",
    "    axs[k].imshow(new_x_test[i,:,:])\n",
    "    axs[k].title.set_text(\"classified as %d\" % y_predict[i])"
   ]
  }
 ],
 "metadata": {
  "@webio": {
   "lastCommId": null,
   "lastKernelId": null
  },
  "kernelspec": {
   "display_name": "Python 3 (tensorflow)",
   "language": "python",
   "name": "python_3_gpss"
  },
  "language_info": {
   "codemirror_mode": {
    "name": "ipython",
    "version": 3
   },
   "file_extension": ".py",
   "mimetype": "text/x-python",
   "name": "python",
   "nbconvert_exporter": "python",
   "pygments_lexer": "ipython3",
   "version": "3.6.7"
  }
 },
 "nbformat": 4,
 "nbformat_minor": 2
}
