{
 "cells": [
  {
   "cell_type": "markdown",
   "metadata": {},
   "source": [
    "Below given code is changing the name of the images in folders to corroded and corroded according to the CSV File."
   ]
  },
  {
   "cell_type": "code",
   "execution_count": null,
   "metadata": {},
   "outputs": [],
   "source": [
    "import csv\n",
    "import os\n",
    "path = '/Users/abhijeetthakur/Downloads/images_1 copy'\n",
    "with open('Site_rod_condition_summary.csv') as csvDataFile:\n",
    "    csvReader = csv.reader(csvDataFile)\n",
    "    i=0\n",
    "    for row in csvReader:\n",
    "        if i==0:\n",
    "            i=2\n",
    "            continue\n",
    "        if not row[0]:\n",
    "            continue\n",
    "        filename=row[0]\n",
    "        filepath=os.path.join(path, filename).strip()\n",
    "        all_files=os.listdir(filepath)\n",
    "        for x in all_files:\n",
    "            newfilename=x.split(\".\")[0]+\"_\"+row[1]+\".\"+x.split(\".\")[1]\n",
    "            newfilename_path=os.path.join(filepath,newfilename)\n",
    "            oldfilename_path=os.path.join(filepath,x)\n",
    "            os.rename(oldfilename_path,newfilename_path)"
   ]
  },
  {
   "cell_type": "markdown",
   "metadata": {},
   "source": [
    "Below given code is resising the image to the 331, 331, 3 from the original size and labeling it according to it name."
   ]
  },
  {
   "cell_type": "code",
   "execution_count": null,
   "metadata": {},
   "outputs": [],
   "source": [
    "import csv\n",
    "import numpy as np\n",
    "import cv2\n",
    "import os\n",
    "import glob\n",
    "import matplotlib.pyplot as plt\n",
    "import tensorflow as tf\n",
    "from PIL import Image\n",
    "import math\n",
    "\n",
    "Y_train_data =[]\n",
    "X_train_data = []\n",
    "dir_files = \"All\"\n",
    "dirs = os.listdir(dir_files)\n",
    "for img in dirs:\n",
    "        if img.endswith(\".JPG\"):\n",
    "            img_array = tf.read_file(os.path.join(dir_files,img))\n",
    "            loaded_image = tf.image.decode_jpeg(img_array, channels=3)\n",
    "            resized_image_v2 = tf.image.resize_images(loaded_image, size=[331, 331],\n",
    "                                          method=tf.image.ResizeMethod.NEAREST_NEIGHBOR, align_corners=True) \n",
    "            with tf.Session() as sess:\n",
    "                sess.run(tf.global_variables_initializer())\n",
    "                resized_v2 = sess.run(resized_image_v2)\n",
    "            if img.find('_Not Corroded')!=-1:\n",
    "                Y_train_data.append(0)\n",
    "            else:\n",
    "                Y_train_data.append(1)\n",
    "            X_train_data.append(resized_v2)    "
   ]
  },
  {
   "cell_type": "markdown",
   "metadata": {},
   "source": [
    "Storing it in np array for faster computation"
   ]
  },
  {
   "cell_type": "code",
   "execution_count": null,
   "metadata": {},
   "outputs": [],
   "source": [
    "np_X_data = np.array(X_train_data)\n",
    "np_Y_data = np.array(Y_train_data)"
   ]
  },
  {
   "cell_type": "code",
   "execution_count": null,
   "metadata": {},
   "outputs": [],
   "source": [
    "np.save('np_X_NSA_data.npy', np_X_data)\n",
    "np.save('np_Y_NSA_data.npy', np_Y_data)"
   ]
  },
  {
   "cell_type": "markdown",
   "metadata": {},
   "source": [
    "Below given code is resising the image to the 331, 331, 3 from the original size and labeling it according to it name."
   ]
  },
  {
   "cell_type": "code",
   "execution_count": null,
   "metadata": {},
   "outputs": [],
   "source": [
    "import csv\n",
    "import numpy as np\n",
    "import cv2\n",
    "import os\n",
    "import glob\n",
    "import matplotlib.pyplot as plt\n",
    "import tensorflow as tf\n",
    "from PIL import Image\n",
    "import math\n",
    "\n",
    "Y_train_data =[]\n",
    "X_train_data = []\n",
    "dir_files = \"All\"\n",
    "dirs = os.listdir(dir_files)\n",
    "for img in dirs:\n",
    "        if img.endswith(\".JPG\"):\n",
    "            img_array = tf.read_file(os.path.join(dir_files,img))\n",
    "            loaded_image = tf.image.decode_jpeg(img_array, channels=3)\n",
    "            resized_image_v2 = tf.image.resize_images(loaded_image, size=[299, 299],\n",
    "                                          method=tf.image.ResizeMethod.NEAREST_NEIGHBOR, align_corners=True) \n",
    "            with tf.Session() as sess:\n",
    "                sess.run(tf.global_variables_initializer())\n",
    "                resized_v2 = sess.run(resized_image_v2)\n",
    "            if img.find('_Not Corroded')!=-1:\n",
    "                Y_train_data.append(0)\n",
    "            else:\n",
    "                Y_train_data.append(1)\n",
    "            X_train_data.append(resized_v2)    "
   ]
  },
  {
   "cell_type": "markdown",
   "metadata": {},
   "source": [
    "Storing it in np array for faster computation"
   ]
  },
  {
   "cell_type": "code",
   "execution_count": null,
   "metadata": {},
   "outputs": [],
   "source": [
    "np_X_data = np.array(X_train_data)\n",
    "np_Y_data = np.array(Y_train_data)"
   ]
  },
  {
   "cell_type": "code",
   "execution_count": null,
   "metadata": {},
   "outputs": [],
   "source": [
    "np.save('np_X_data.npy', np_X_data)\n",
    "np.save('np_Y_data.npy', np_Y_data)"
   ]
  }
 ],
 "metadata": {
  "kernelspec": {
   "display_name": "Python 3",
   "language": "python",
   "name": "python3"
  },
  "language_info": {
   "codemirror_mode": {
    "name": "ipython",
    "version": 3
   },
   "file_extension": ".py",
   "mimetype": "text/x-python",
   "name": "python",
   "nbconvert_exporter": "python",
   "pygments_lexer": "ipython3",
   "version": "3.7.3"
  }
 },
 "nbformat": 4,
 "nbformat_minor": 2
}
