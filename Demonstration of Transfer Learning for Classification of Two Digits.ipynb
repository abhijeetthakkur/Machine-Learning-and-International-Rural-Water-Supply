{
 "cells": [
  {
   "cell_type": "code",
   "execution_count": 1,
   "metadata": {},
   "outputs": [],
   "source": [
    "from tensorflow import keras as tfk\n",
    "\n",
    "import numpy as np\n",
    "\n",
    "from matplotlib import pyplot as plt\n",
    "\n",
    "import skimage"
   ]
  },
  {
   "cell_type": "markdown",
   "metadata": {},
   "source": [
    "## Load data\n",
    "\n",
    "We can get the MNIST dataset from Keras, which is nicely partitioned into training and test data. For real-world data, you will need to load the data in by hand and manually partition it (or partition it randomly)."
   ]
  },
  {
   "cell_type": "code",
   "execution_count": 2,
   "metadata": {},
   "outputs": [],
   "source": [
    "(x_train_full, y_train_full), (x_test_full, y_test_full) = tfk.datasets.mnist.load_data()"
   ]
  },
  {
   "cell_type": "markdown",
   "metadata": {},
   "source": [
    "Looking at the data, we can see that there are a large number of images, that are 28x28 (greyscale: [0,255]) pixels."
   ]
  },
  {
   "cell_type": "code",
   "execution_count": 3,
   "metadata": {},
   "outputs": [
    {
     "name": "stdout",
     "output_type": "stream",
     "text": [
      "data tensor: (60000, 28, 28) \n",
      "individual image size: (28, 28)\n",
      "num. training: 60000; num. testing: 10000\n"
     ]
    }
   ],
   "source": [
    "print('data tensor: %s ' % str(x_train_full.shape))\n",
    "print('individual image size: %s' % str(x_train_full[0,:,:].shape))\n",
    "\n",
    "print('num. training: %d; num. testing: %d' % (x_train_full.shape[0], x_test_full.shape[0]))"
   ]
  },
  {
   "cell_type": "markdown",
   "metadata": {},
   "source": [
    "## Take a random subsample of two types of numbers from MNIST\n",
    "\n",
    "We take $N$ samples from the 2 and 4 digits each with the idea that we want to train a binary classifier that will classify between them."
   ]
  },
  {
   "cell_type": "code",
   "execution_count": 4,
   "metadata": {},
   "outputs": [],
   "source": [
    "N = 100 # how much data of each class\n",
    "c1, c2 = 2, 4 # these are our two classes for binary classification"
   ]
  },
  {
   "cell_type": "markdown",
   "metadata": {},
   "source": [
    "##### Training data\n",
    "This code takes a random choice of $N$ images from each class (`c1`,`c2`) and constructs a subsample as a $N\\times28\\times28$ tensor."
   ]
  },
  {
   "cell_type": "code",
   "execution_count": 5,
   "metadata": {},
   "outputs": [
    {
     "name": "stdout",
     "output_type": "stream",
     "text": [
      "size of training subset: (200, 28, 28)\n"
     ]
    }
   ],
   "source": [
    "index_of_c1 = np.argwhere(y_train_full == c1).ravel() # index of 2s\n",
    "index_of_c1 = np.random.choice(index_of_c1, N, replace=False)\n",
    "\n",
    "index_of_c2 = np.argwhere(y_train_full == c2).ravel() # index of 4s\n",
    "index_of_c2 = np.random.choice(index_of_c2, N, replace=False)\n",
    "\n",
    "x_train = x_train_full[np.hstack((index_of_c1, index_of_c2))] # subsample\n",
    "y_train = y_train_full[np.hstack((index_of_c1, index_of_c2))] # subsample\n",
    "\n",
    "print(\"size of training subset: %s\" % str(x_train.shape))"
   ]
  },
  {
   "cell_type": "markdown",
   "metadata": {},
   "source": [
    "We'll write a short function to take a binary image and make it into an RGB by repeating 3 times along the 3rd dimension:"
   ]
  },
  {
   "cell_type": "code",
   "execution_count": 6,
   "metadata": {},
   "outputs": [
    {
     "name": "stdout",
     "output_type": "stream",
     "text": [
      "(28, 28, 3)\n"
     ]
    }
   ],
   "source": [
    "as_rgb = lambda im: np.tile(np.expand_dims(im,2),(1,1,3))\n",
    "\n",
    "#example\n",
    "print(as_rgb(x_train[0,:,:]).shape)"
   ]
  },
  {
   "cell_type": "markdown",
   "metadata": {},
   "source": [
    "We want to resize the data, so we use the skimage `resize` utility. Essentially, for each image in `x_train`, we duplicate it to create an RGB version of the image `(28x28x3)`, and then pass to `resize`. This results in a `299x299x3` image. We combine all images into a batch tensor by stacking them along the first dimension."
   ]
  },
  {
   "cell_type": "code",
   "execution_count": 7,
   "metadata": {},
   "outputs": [
    {
     "name": "stderr",
     "output_type": "stream",
     "text": [
      "/home/wil/anaconda3/envs/tensorflow/lib/python3.6/site-packages/skimage/transform/_warps.py:105: UserWarning: The default mode, 'constant', will be changed to 'reflect' in skimage 0.15.\n",
      "  warn(\"The default mode, 'constant', will be changed to 'reflect' in \"\n",
      "/home/wil/anaconda3/envs/tensorflow/lib/python3.6/site-packages/skimage/transform/_warps.py:110: UserWarning: Anti-aliasing will be enabled by default in skimage 0.15 to avoid aliasing artifacts when down-sampling images.\n",
      "  warn(\"Anti-aliasing will be enabled by default in skimage 0.15 to \"\n"
     ]
    },
    {
     "name": "stdout",
     "output_type": "stream",
     "text": [
      "(200, 299, 299, 3)\n"
     ]
    }
   ],
   "source": [
    "resize = lambda im: skimage.transform.resize(as_rgb(im), (299, 299), preserve_range=False, order=0)\n",
    "\n",
    "new_x_train = np.concatenate([[resize(x_train[i,:,:])] for i in range(x_train.shape[0])])\n",
    "print(new_x_train.shape)"
   ]
  },
  {
   "cell_type": "markdown",
   "metadata": {},
   "source": [
    "##### Test Data\n",
    "We now do the same but for the test data"
   ]
  },
  {
   "cell_type": "code",
   "execution_count": 8,
   "metadata": {},
   "outputs": [],
   "source": [
    "index_of_c1 = np.argwhere(y_test_full == c1).ravel() # index of 2s\n",
    "index_of_c1 = np.random.choice(index_of_c1, N, replace=False)\n",
    "\n",
    "index_of_c2 = np.argwhere(y_test_full == c2).ravel() # index of 2s\n",
    "index_of_c2 = np.random.choice(index_of_c2, N, replace=False)\n",
    "\n",
    "x_test = x_test_full[np.hstack((index_of_c1, index_of_c2))]\n",
    "y_test = y_test_full[np.hstack((index_of_c1, index_of_c2))]"
   ]
  },
  {
   "cell_type": "code",
   "execution_count": 9,
   "metadata": {},
   "outputs": [
    {
     "name": "stdout",
     "output_type": "stream",
     "text": [
      "(200, 299, 299, 3)\n"
     ]
    }
   ],
   "source": [
    "new_x_test = np.concatenate([[resize(x_test[i,:,:])] for i in range(x_test.shape[0])])\n",
    "print(new_x_test.shape)"
   ]
  },
  {
   "cell_type": "markdown",
   "metadata": {},
   "source": [
    "###### Some cleanup"
   ]
  },
  {
   "cell_type": "code",
   "execution_count": 10,
   "metadata": {},
   "outputs": [],
   "source": [
    "del x_test_full\n",
    "del x_train_full"
   ]
  },
  {
   "cell_type": "markdown",
   "metadata": {},
   "source": [
    "### Plot results of resizing\n",
    "You can rerun the following cell and it will get a new image from the training data and test data"
   ]
  },
  {
   "cell_type": "code",
   "execution_count": 11,
   "metadata": {},
   "outputs": [
    {
     "data": {
      "image/png": "[encoded data removed]",
      "text/plain": [
       "<Figure size 864x864 with 4 Axes>"
      ]
     },
     "metadata": {
      "needs_background": "light"
     },
     "output_type": "display_data"
    }
   ],
   "source": [
    "plt.figure(figsize=(12,12))\n",
    "i = np.random.randint(0, new_x_train.shape[0])\n",
    "plt.subplot(221)\n",
    "plt.imshow(x_train[i,:,:])\n",
    "plt.title(\"binary training image (%d) of a %d\" % (i,y_train[i]))\n",
    "plt.subplot(222)\n",
    "plt.imshow(new_x_train[i,:,:])\n",
    "plt.title(\"resized rbg version\");\n",
    "\n",
    "i = np.random.randint(0, new_x_test.shape[0])\n",
    "plt.subplot(223)\n",
    "plt.imshow(x_test[i,:,:])\n",
    "plt.title(\"binary test image (%d) of a %d\" % (i,y_test[i]))\n",
    "plt.subplot(224)\n",
    "plt.imshow(new_x_test[i,:,:])\n",
    "plt.title(\"resized rbg version\");"
   ]
  },
  {
   "cell_type": "markdown",
   "metadata": {},
   "source": [
    "### Inception"
   ]
  },
  {
   "cell_type": "code",
   "execution_count": 12,
   "metadata": {},
   "outputs": [],
   "source": [
    "from tensorflow.keras.applications.inception_v3 import InceptionV3"
   ]
  },
  {
   "cell_type": "code",
   "execution_count": 13,
   "metadata": {},
   "outputs": [
    {
     "name": "stderr",
     "output_type": "stream",
     "text": [
      "WARNING: Logging before flag parsing goes to stderr.\n",
      "W0702 18:04:13.642056 139920438748992 deprecation.py:506] From /home/wil/anaconda3/envs/tensorflow/lib/python3.6/site-packages/tensorflow/python/ops/init_ops.py:1251: calling VarianceScaling.__init__ (from tensorflow.python.ops.init_ops) with dtype is deprecated and will be removed in a future version.\n",
      "Instructions for updating:\n",
      "Call initializer instance with the dtype argument instead of passing it to the constructor\n"
     ]
    }
   ],
   "source": [
    "inception = InceptionV3(\n",
    "    weights='imagenet',\n",
    "    include_top=False,\n",
    "    pooling='avg',\n",
    "    input_shape=(299,299,3)\n",
    ")"
   ]
  },
  {
   "cell_type": "markdown",
   "metadata": {},
   "source": [
    "### Feature Extraction\n",
    "\n",
    "We use the `inception` model to get feature vectors:"
   ]
  },
  {
   "cell_type": "code",
   "execution_count": 14,
   "metadata": {},
   "outputs": [
    {
     "name": "stdout",
     "output_type": "stream",
     "text": [
      "(200, 2048)\n"
     ]
    }
   ],
   "source": [
    "training_features = inception.predict(new_x_train)\n",
    "print(training_features.shape)"
   ]
  },
  {
   "cell_type": "code",
   "execution_count": 15,
   "metadata": {},
   "outputs": [
    {
     "name": "stdout",
     "output_type": "stream",
     "text": [
      "(200, 2048)\n"
     ]
    }
   ],
   "source": [
    "test_features = inception.predict(new_x_test)\n",
    "print(test_features.shape)"
   ]
  },
  {
   "cell_type": "markdown",
   "metadata": {},
   "source": [
    "### Classification\n",
    "\n",
    "We now have our feature vectors representing our 200 training images. We want to build a classifer that will characterise those. For example, we can try a linear support vector machine:"
   ]
  },
  {
   "cell_type": "code",
   "execution_count": 16,
   "metadata": {},
   "outputs": [],
   "source": [
    "from sklearn.svm import LinearSVC as Classifier"
   ]
  },
  {
   "cell_type": "code",
   "execution_count": 17,
   "metadata": {},
   "outputs": [
    {
     "data": {
      "text/plain": [
       "LinearSVC(C=1.0, class_weight=None, dual=True, fit_intercept=True,\n",
       "     intercept_scaling=1, loss='squared_hinge', max_iter=1000,\n",
       "     multi_class='ovr', penalty='l2', random_state=None, tol=0.0001,\n",
       "     verbose=0)"
      ]
     },
     "execution_count": 17,
     "metadata": {},
     "output_type": "execute_result"
    }
   ],
   "source": [
    "clf = Classifier()\n",
    "\n",
    "clf.fit(training_features, y_train)"
   ]
  },
  {
   "cell_type": "markdown",
   "metadata": {},
   "source": [
    "### Predict test features"
   ]
  },
  {
   "cell_type": "code",
   "execution_count": 18,
   "metadata": {},
   "outputs": [],
   "source": [
    "y_predict = clf.predict(test_features)"
   ]
  },
  {
   "cell_type": "markdown",
   "metadata": {},
   "source": [
    "We can compare the predicted features with the known labels and compute the accuracy"
   ]
  },
  {
   "cell_type": "code",
   "execution_count": 19,
   "metadata": {},
   "outputs": [
    {
     "name": "stdout",
     "output_type": "stream",
     "text": [
      "accuracy: 0.975000\n",
      "successfully classified: 195/200\n"
     ]
    }
   ],
   "source": [
    "acc = clf.score(test_features, y_test)\n",
    "print(\"accuracy: %f\" % acc)\n",
    "print(\"successfully classified: %d/%d\" % (np.sum(y_predict == y_test), len(y_test)))"
   ]
  },
  {
   "cell_type": "markdown",
   "metadata": {},
   "source": [
    "#### Show failed classification\n",
    "\n",
    "Here we plot the results of incorrect classifications"
   ]
  },
  {
   "cell_type": "code",
   "execution_count": 20,
   "metadata": {},
   "outputs": [
    {
     "data": {
      "image/png": "[encoded data removed]",
      "text/plain": [
       "<Figure size 1008x576 with 5 Axes>"
      ]
     },
     "metadata": {
      "needs_background": "light"
     },
     "output_type": "display_data"
    }
   ],
   "source": [
    "ix, = np.where(y_predict != y_test)\n",
    "\n",
    "nc = min(5,len(ix))\n",
    "nr = int(np.ceil(len(ix) / nc))\n",
    "\n",
    "fig, axs = plt.subplots(nr,nc, figsize=(14,8))\n",
    "axs = axs.ravel()\n",
    "for k,i in enumerate(ix):\n",
    "    axs[k].imshow(new_x_test[i,:,:])\n",
    "    axs[k].title.set_text(\"classified as %d\" % y_predict[i])"
   ]
  },
  {
   "cell_type": "markdown",
   "metadata": {},
   "source": [
    "## Comparing classifiers\n",
    "\n",
    "We can also do a basic comparison of different classifiers by evaluating each of them and looking at the accuracy.\n",
    "\n",
    "For example, we look at support vector machine, linear support vector machine, linear SGD classifer, decision trees and naive Bayes:"
   ]
  },
  {
   "cell_type": "code",
   "execution_count": 21,
   "metadata": {},
   "outputs": [],
   "source": [
    "from sklearn.svm import SVC, LinearSVC\n",
    "from sklearn.linear_model import SGDClassifier\n",
    "from sklearn.tree import DecisionTreeClassifier\n",
    "from sklearn.naive_bayes import GaussianNB\n",
    "\n",
    "classifiers = {\n",
    "    'svm': SVC, \n",
    "    'sgd': SGDClassifier, \n",
    "    'linearsvm': LinearSVC,\n",
    "    'decisiontree': DecisionTreeClassifier,\n",
    "    'naivebayes': GaussianNB\n",
    "}"
   ]
  },
  {
   "cell_type": "markdown",
   "metadata": {},
   "source": [
    "For each classifer, we simply fit the data and calculate the trainig and test accuracy:"
   ]
  },
  {
   "cell_type": "code",
   "execution_count": 22,
   "metadata": {},
   "outputs": [
    {
     "name": "stderr",
     "output_type": "stream",
     "text": [
      "/home/wil/anaconda3/envs/tensorflow/lib/python3.6/site-packages/sklearn/svm/base.py:196: FutureWarning: The default value of gamma will change from 'auto' to 'scale' in version 0.22 to account better for unscaled features. Set gamma explicitly to 'auto' or 'scale' to avoid this warning.\n",
      "  \"avoid this warning.\", FutureWarning)\n"
     ]
    },
    {
     "name": "stdout",
     "output_type": "stream",
     "text": [
      "classifer: svm\n",
      "  training accuracy: 0.925000\n",
      "  test accuracy: 0.960000\n",
      "classifer: sgd\n",
      "  training accuracy: 1.000000\n",
      "  test accuracy: 0.955000\n"
     ]
    },
    {
     "name": "stderr",
     "output_type": "stream",
     "text": [
      "/home/wil/anaconda3/envs/tensorflow/lib/python3.6/site-packages/sklearn/linear_model/stochastic_gradient.py:166: FutureWarning: max_iter and tol parameters have been added in SGDClassifier in 0.19. If both are left unset, they default to max_iter=5 and tol=None. If tol is not None, max_iter defaults to max_iter=1000. From 0.21, default max_iter will be 1000, and default tol will be 1e-3.\n",
      "  FutureWarning)\n"
     ]
    },
    {
     "name": "stdout",
     "output_type": "stream",
     "text": [
      "classifer: linearsvm\n",
      "  training accuracy: 1.000000\n",
      "  test accuracy: 0.975000\n",
      "classifer: decisiontree\n",
      "  training accuracy: 1.000000\n",
      "  test accuracy: 0.905000\n",
      "classifer: naivebayes\n",
      "  training accuracy: 0.935000\n",
      "  test accuracy: 0.945000\n"
     ]
    }
   ],
   "source": [
    "for name, Classifer in classifiers.items():\n",
    "    clf = Classifer()\n",
    "    clf.fit(training_features, y_train)\n",
    "    train_acc = clf.score(training_features, y_train)\n",
    "    test_acc  = clf.score(test_features,  y_test)\n",
    "    print(\"classifer: %s\\n  training accuracy: %f\\n  test accuracy: %f\" % (name, train_acc, test_acc))"
   ]
  }
 ],
 "metadata": {
  "@webio": {
   "lastCommId": null,
   "lastKernelId": null
  },
  "kernelspec": {
   "display_name": "Python 3 (tensorflow)",
   "language": "python",
   "name": "tensorflow"
  },
  "language_info": {
   "codemirror_mode": {
    "name": "ipython",
    "version": 3
   },
   "file_extension": ".py",
   "mimetype": "text/x-python",
   "name": "python",
   "nbconvert_exporter": "python",
   "pygments_lexer": "ipython3",
   "version": "3.6.8"
  }
 },
 "nbformat": 4,
 "nbformat_minor": 2
}
