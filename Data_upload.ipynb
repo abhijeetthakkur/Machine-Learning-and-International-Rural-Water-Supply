{
 "cells": [
  {
   "cell_type": "code",
   "execution_count": 10,
   "metadata": {},
   "outputs": [],
   "source": [
    "#import data\n",
    "import csv\n",
    "import os\n",
    "path = 'Test1'\n",
    "with open('images2.csv') as csvDataFile:\n",
    "    csvReader = csv.reader(csvDataFile)\n",
    "    i=0\n",
    "    for row in csvReader:\n",
    "        if i==0:\n",
    "            i=2\n",
    "            continue\n",
    "        filename=row[0]\n",
    "        filepath=os.path.join(path,filename)\n",
    "        all_files=os.listdir(filepath)\n",
    "        for x in all_files:\n",
    "            newfilename=x.split(\".\")[0]+\"_\"+row[1]+\"_\"+row[2]+\".\"+x.split(\".\")[1]\n",
    "            newfilename_path=os.path.join(filepath,newfilename)\n",
    "            oldfilename_path=os.path.join(filepath,x)\n",
    "            os.rename(oldfilename_path,newfilename_path)"
   ]
  },
  {
   "cell_type": "code",
   "execution_count": 56,
   "metadata": {},
   "outputs": [
    {
     "name": "stdout",
     "output_type": "stream",
     "text": [
      "(38, 28, 28)\n"
     ]
    }
   ],
   "source": [
    "import numpy as np\n",
    "import cv2\n",
    "import os\n",
    "import glob\n",
    "\n",
    "X_data = []\n",
    "dir_files =\"Test1/imgaes/\"\n",
    "for img in os.listdir(dir_files):\n",
    "        img_array = cv2.imread(os.path.join(dir_files,img), cv2.IMREAD_GRAYSCALE)\n",
    "        resized_image = cv2.resize(img_array, (28, 28))\n",
    "#         img_flatten = resized_image.reshape(-1)\n",
    "        X_data.append(resized_image)\n",
    "np_X_data = np.array(X_data)        \n",
    "        \n",
    "print(np_X_data.shape)"
   ]
  },
  {
   "cell_type": "code",
   "execution_count": 57,
   "metadata": {},
   "outputs": [
    {
     "name": "stdout",
     "output_type": "stream",
     "text": [
      "[1 2 2 0 0 2 0 0 2 0 2 2 1 2 0 0 1 2 0 2 0 0 0 0 2 0 0 0 1 1 2 2 0 2 2 2 1\n",
      " 1]\n"
     ]
    }
   ],
   "source": [
    "from PIL import Image\n",
    "import os, sys\n",
    "import glob\n",
    "import numpy as np\n",
    "\n",
    "Y_data = []\n",
    "#root_dir = \"Dissertation/list_of_images/\"\n",
    "#for ii in glob.iglob(root_dir + '**/*.jpg', recursive=True):\n",
    "dir_files = glob.glob(\"Test1/imgaes/**.JPG\")\n",
    "for ii in dir_files:\n",
    "# #     print(ii)\n",
    "#     im = Image.open(ii)\n",
    "#     imResize = im.resize((28,28), Image.ANTIALIAS)\n",
    "#     aaa=np.array(imResize)\n",
    "#     X_data.append(aaa)\n",
    "    if ii.find('_Not Corroded_Not Damaged')!=-1:\n",
    "        Y_data.append(2)\n",
    "    elif ii.find('_Not Corroded_Damaged')!=-1:\n",
    "        Y_data.append(1)\n",
    "    elif ii.find('_Corroded_Not Damaged')!=-1:\n",
    "        Y_data.append(3)\n",
    "    elif ii.find('_Corroded_Damaged')!=-1:\n",
    "        Y_data.append(0)\n",
    "\n",
    "np_Y_data = np.array(Y_data) \n",
    "# print(len(X_data))\n",
    "print(np_Y_data)"
   ]
  },
  {
   "cell_type": "code",
   "execution_count": 58,
   "metadata": {},
   "outputs": [
    {
     "name": "stdout",
     "output_type": "stream",
     "text": [
      "(28, 28)\n"
     ]
    }
   ],
   "source": [
    "print(np_X_data[0,:,:].shape)\n",
    "# print(np_X_data)"
   ]
  },
  {
   "cell_type": "code",
   "execution_count": 59,
   "metadata": {},
   "outputs": [],
   "source": [
    "N = 4 # how much data of each class\n",
    "c1, c2, c3= 2, 1, 0"
   ]
  },
  {
   "cell_type": "code",
   "execution_count": 60,
   "metadata": {},
   "outputs": [
    {
     "name": "stdout",
     "output_type": "stream",
     "text": [
      "size of training subset: (12, 28, 28)\n"
     ]
    }
   ],
   "source": [
    "index_of_c1 = np.argwhere(np_Y_data == c1).ravel() # index of 2s\n",
    "index_of_c1 = np.random.choice(index_of_c1, N, replace=False)\n",
    "\n",
    "index_of_c2 = np.argwhere(np_Y_data == c2).ravel() # index of 3s\n",
    "index_of_c2 = np.random.choice(index_of_c2, N, replace=False)\n",
    "\n",
    "index_of_c3 = np.argwhere(np_Y_data == c3).ravel() # index of 4s\n",
    "index_of_c3 = np.random.choice(index_of_c3, N, replace=False)\n",
    "\n",
    "# index_of_c4 = np.argwhere(np_Y_data == c4).ravel() # index of 4s\n",
    "# index_of_c4 = np.random.choice(index_of_c4, N, replace=False)\n",
    "\n",
    "x_train = np_X_data[np.hstack((index_of_c1, index_of_c2, index_of_c3))] # subsample\n",
    "y_train = np_Y_data[np.hstack((index_of_c1, index_of_c2, index_of_c3))] # subsample\n",
    "\n",
    "print(\"size of training subset: %s\" % str(x_train.shape))"
   ]
  },
  {
   "cell_type": "code",
   "execution_count": 61,
   "metadata": {},
   "outputs": [
    {
     "name": "stdout",
     "output_type": "stream",
     "text": [
      "(28, 28, 3)\n"
     ]
    }
   ],
   "source": [
    "as_rgb = lambda im: np.tile(np.expand_dims(im,2),(1,1,3))\n",
    "\n",
    "#example\n",
    "print(as_rgb(x_train[0,:,:]).shape)"
   ]
  },
  {
   "cell_type": "code",
   "execution_count": 62,
   "metadata": {},
   "outputs": [
    {
     "name": "stdout",
     "output_type": "stream",
     "text": [
      "(38, 299, 299, 3)\n"
     ]
    }
   ],
   "source": [
    "import skimage\n",
    "resize = lambda im: skimage.transform.resize(as_rgb(im), (299, 299), preserve_range=False, order=0)\n",
    "\n",
    "new_x_train = np.concatenate([[resize(np_X_data[i,:,:])] for i in range(np_X_data.shape[0])])\n",
    "print(new_x_train.shape)"
   ]
  },
  {
   "cell_type": "code",
   "execution_count": null,
   "metadata": {},
   "outputs": [],
   "source": []
  }
 ],
 "metadata": {
  "kernelspec": {
   "display_name": "Python 3",
   "language": "python",
   "name": "python3"
  },
  "language_info": {
   "codemirror_mode": {
    "name": "ipython",
    "version": 3
   },
   "file_extension": ".py",
   "mimetype": "text/x-python",
   "name": "python",
   "nbconvert_exporter": "python",
   "pygments_lexer": "ipython3",
   "version": "3.7.3"
  }
 },
 "nbformat": 4,
 "nbformat_minor": 2
}
