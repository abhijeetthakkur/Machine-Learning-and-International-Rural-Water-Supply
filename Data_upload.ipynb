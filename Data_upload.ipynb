{
 "cells": [
  {
   "cell_type": "code",
   "execution_count": 14,
   "metadata": {},
   "outputs": [],
   "source": [
    "import csv\n",
    "import os\n",
    "path = 'Dissertation/Test'\n",
    "with open('images2.csv') as csvDataFile:\n",
    "    csvReader = csv.reader(csvDataFile)\n",
    "    i=0\n",
    "    for row in csvReader:\n",
    "        if i==0:\n",
    "            i=2\n",
    "            continue\n",
    "        filename=row[0]\n",
    "        filepath=os.path.join(path,filename)\n",
    "        all_files=os.listdir(filepath)\n",
    "        for x in all_files:\n",
    "            newfilename=x.split(\".\")[0]+\"_\"+row[1]+\"_\"+row[2]+\".\"+x.split(\".\")[1]\n",
    "            newfilename_path=os.path.join(filepath,newfilename)\n",
    "            oldfilename_path=os.path.join(filepath,x)\n",
    "            os.rename(oldfilename_path,newfilename_path)"
   ]
  },
  {
   "cell_type": "code",
   "execution_count": null,
   "metadata": {},
   "outputs": [],
   "source": []
  },
  {
   "cell_type": "code",
   "execution_count": null,
   "metadata": {},
   "outputs": [],
   "source": []
  },
  {
   "cell_type": "code",
   "execution_count": null,
   "metadata": {},
   "outputs": [],
   "source": []
  },
  {
   "cell_type": "code",
   "execution_count": null,
   "metadata": {},
   "outputs": [],
   "source": []
  },
  {
   "cell_type": "code",
   "execution_count": null,
   "metadata": {},
   "outputs": [],
   "source": []
  },
  {
   "cell_type": "code",
   "execution_count": null,
   "metadata": {},
   "outputs": [],
   "source": []
  },
  {
   "cell_type": "code",
   "execution_count": null,
   "metadata": {},
   "outputs": [],
   "source": []
  },
  {
   "cell_type": "code",
   "execution_count": null,
   "metadata": {},
   "outputs": [],
   "source": []
  },
  {
   "cell_type": "code",
   "execution_count": 6,
   "metadata": {},
   "outputs": [
    {
     "name": "stdout",
     "output_type": "stream",
     "text": [
      "MBA07\n",
      ".DS_Store\n",
      "EAE01\n",
      "EEJ02\n",
      "MBA04\n",
      "MBA03\n",
      "MBA02\n",
      "EAE02\n",
      "EAE03\n",
      "EAE04\n",
      "EEJ06\n",
      "EEJ09\n"
     ]
    }
   ],
   "source": [
    "import os\n",
    "path = 'Dissertation/Test'\n",
    "files = os.listdir(path)\n",
    "for file in files:\n",
    "    print(file)\n",
    "    \n",
    "   #os.rename(os.path.join(path, file), os.path.join(path, 'xyz_' + file + '.csv'))"
   ]
  },
  {
   "cell_type": "code",
   "execution_count": null,
   "metadata": {},
   "outputs": [],
   "source": []
  }
 ],
 "metadata": {
  "kernelspec": {
   "display_name": "Python 3",
   "language": "python",
   "name": "python3"
  },
  "language_info": {
   "codemirror_mode": {
    "name": "ipython",
    "version": 3
   },
   "file_extension": ".py",
   "mimetype": "text/x-python",
   "name": "python",
   "nbconvert_exporter": "python",
   "pygments_lexer": "ipython3",
   "version": "3.7.3"
  }
 },
 "nbformat": 4,
 "nbformat_minor": 2
}
